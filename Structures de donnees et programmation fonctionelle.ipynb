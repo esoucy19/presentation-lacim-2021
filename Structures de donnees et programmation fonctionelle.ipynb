{
 "cells": [
  {
   "cell_type": "markdown",
   "id": "67ca3e20",
   "metadata": {
    "slideshow": {
     "slide_type": "slide"
    }
   },
   "source": [
    "# Structures de données et programmation fonctionelle dans Python/Sage\n",
    "## Faites travailler l'ordinateur pour vous!\n",
    "\n",
    "Présenté par: **Étienne Soucy**"
   ]
  },
  {
   "cell_type": "markdown",
   "id": "129cc516",
   "metadata": {
    "slideshow": {
     "slide_type": "slide"
    }
   },
   "source": [
    "# Objectifs\n",
    "* Démystifier la programmation Python/Sage en offrant une perspective\n",
    "    et une méthodologie \"mathématiquement plaisantes\".\n",
    "* Introduire les structures de données de base de Python et souligner\n",
    "    leur puissance et flexibilité.\n",
    "* Présenter une sélection de fonctions et techniques de programmation\n",
    "    fonctionelle pour le traitement de données mathématiques."
   ]
  },
  {
   "cell_type": "markdown",
   "id": "812bbf43",
   "metadata": {
    "slideshow": {
     "slide_type": "slide"
    }
   },
   "source": [
    "# Python\n",
    "En tant que language de programmation, Python possède les\n",
    "caractéristiques suivantes:\n",
    "* Procédural, orienté-objet, multi-paradigme.\n",
    "* Code interprété (vs compilé).\n",
    "* Faible typage/typage dynamique (vs typage fort/typage statique).\n",
    "* Haut niveau d'abstraction (vs bas niveau d'abstraction)\n",
    "* Intéropération facile avec d'autres languages (particulièrement C).\n",
    "* Emphase sur la simplicité. *There's one way to do it.*\n",
    "* Occasionels problèmes de performance lors de cacluls complexes."
   ]
  },
  {
   "cell_type": "markdown",
   "id": "59ec465c",
   "metadata": {
    "slideshow": {
     "slide_type": "subslide"
    }
   },
   "source": [
    "La simplicité et le dynamisme de Python en fait un excellent language de scriptage, prototypage, etc.\n",
    "\n",
    "Cette simplicité aussi mené à l'adoption du language par la communauté scientifique. Leur contribution a mené au développement d'un écosystème de librairies et applications scientifiques extrèmement robustes (NumPy, Pandas, SciPy, Jupyter, SymPy, Sage, etc).\n",
    "\n",
    "Le dynamisme de Python en fait également un excellent \"language colle\"."
   ]
  },
  {
   "cell_type": "markdown",
   "id": "50a9fc38",
   "metadata": {
    "slideshow": {
     "slide_type": "slide"
    }
   },
   "source": [
    "# Language colle\n",
    "Un language colle (glue language) est un language qui facilite la coordination d'une variété de systèmes et données extérieurs vers un but unifié. (systèmes de gestion des données, serveurs, équipement réseau, bases de données scientifiques, etc).\n",
    "\n",
    "L'internet moderne est bâtit sur le dos de languages colle tels que\n",
    "Python, Perl, PHP, Ruby, Javascript, etc.\n",
    "\n",
    "Les languages colle sont typiquement dynamiques, ce qui facilite la manipulation de données extérieures complexes et variables."
   ]
  },
  {
   "cell_type": "markdown",
   "id": "51fc08b9",
   "metadata": {
    "slideshow": {
     "slide_type": "slide"
    }
   },
   "source": [
    "# Une perspective sur Python\n",
    "Python a été conçu pour intéropérer avec le language C. L'interpréteur standard de Python, CPython, est écrit en C. De même, la majorité des librairies de base, ainsi que beaucoup de librairies externes, sont écrites en C."
   ]
  },
  {
   "cell_type": "markdown",
   "id": "39461f33",
   "metadata": {
    "slideshow": {
     "slide_type": "subslide"
    }
   },
   "source": [
    "Cela confère à Python une nature \"hybride\". C est énormément plus performant comme language au fait de sa nature compilée, fortement typée et sa capacité à manipuler directement la mémoire de l'ordinateur."
   ]
  },
  {
   "cell_type": "markdown",
   "id": "da632058",
   "metadata": {
    "slideshow": {
     "slide_type": "subslide"
    }
   },
   "source": [
    "Une excellente stratégie pour écrire du code Python simple et performant est donc d'écrire le moins de code Python possible (!) et d'utiliser celui-ci comme un language colle maximisant l'usage des structures de données et fonctions des librairies robustes qui sont à notre disposition. C'est ce sur quoi nous mettrons l'emphase."
   ]
  },
  {
   "cell_type": "markdown",
   "id": "40a74b5e",
   "metadata": {
    "slideshow": {
     "slide_type": "slide"
    }
   },
   "source": [
    "# Structures de données\n",
    "Les structures de données de base de Python sont\n",
    "### Liste (list)\n",
    "La plus simple des structures; une colleciton de \n",
    "données ordonnées de taille variable.\n",
    "### Tuple\n",
    "Un n-uplet de données; semblable à la liste, mais de taille non-variable (immuable).\n",
    "### Ensemble (set)\n",
    "Un ensemble au sens mathématique. Une collection non-ordonnée de données uniques et immmuables, de taille variable.\n",
    "### Dictionnaire (dict)\n",
    "Un ensemble non-ordonné de paires de clés/valeurs."
   ]
  },
  {
   "cell_type": "code",
   "execution_count": 26,
   "id": "7997a7a4",
   "metadata": {
    "slideshow": {
     "slide_type": "subslide"
    }
   },
   "outputs": [
    {
     "data": {
      "text/plain": [
       "True"
      ]
     },
     "execution_count": 26,
     "metadata": {},
     "output_type": "execute_result"
    }
   ],
   "source": [
    "# Liste\n",
    "# Se construit avec [] ou list()\n",
    "l1 = [1, 2, 3, 4]\n",
    "l2 = list((1,2,3,4))\n",
    "l1 == l2 # True\n",
    "\n",
    "# Tuple\n",
    "# Se construit avec (), ',' ou tuple.\n",
    "# Note: La notation () doit contenir au moins une virgule\n",
    "# pour que Python comprenne qu'on veut construire un tuple.\n",
    "t1 = (1,2,3,4)\n",
    "t2 = 1,2\n",
    "t3 = tuple((1,2,3,4))\n",
    "t4 = (1)        # t3 va contenir l'entier '1', pas un tuple\n",
    "t5 = (1,)       # t4 va contenir le tuple (1)\n",
    "t6 = tuple([1]) # idem que t4\n",
    "t5 == t6 # True\n",
    "\n",
    "# Unpacking: On peut déballer une collection dans un tuple de\n",
    "# variables\n",
    "v = (1,2,3)\n",
    "x,y,z = v\n",
    "x == 1; y == 2; z == 3 # True; True; True\n",
    "\n",
    "# On accède aux éléments de listes et tuples par indice\n",
    "l1[1] == 2 # True\n",
    "t1[0] == 1 # True\n",
    "l1[0] == t1[1] - 1 # True"
   ]
  },
  {
   "cell_type": "code",
   "execution_count": 25,
   "id": "99b17423",
   "metadata": {
    "slideshow": {
     "slide_type": "subslide"
    }
   },
   "outputs": [
    {
     "data": {
      "text/plain": [
       "True"
      ]
     },
     "execution_count": 25,
     "metadata": {},
     "output_type": "execute_result"
    }
   ],
   "source": [
    "# Ensemble\n",
    "# Se construit avec {} ou set()\n",
    "s1 = {1,2,3,4}\n",
    "s2 = set([1,3,5,7])\n",
    "\n",
    "# Les éléments d'un ensemble ne sont pas accesibles par\n",
    "# indice: s1[0] produirait une erreur.\n",
    "\n",
    "# On peut vérifier si un élément est dans un ensemble avec\n",
    "# l'opérateur \"in\" ou la méthode contains()\n",
    "1 in s1 # True\n",
    "\n",
    "# Les ensembles comprennent le concept d'union et d'intersection\n",
    "s1.intersection(s2) # 1,3\n",
    "s1.union(s2) # 1,2,3,4,5,7\n",
    "s1.isdisjoint(s2) # False\n",
    "s1.issubset(s2) # False\n",
    "\n",
    "# Dictionnaire\n",
    "# Se construit avec {clé:valeur} ou dict()\n",
    "d1 = {\"pommes\": 1, \"oranges\": 3, \"bananes\": 6}\n",
    "d2 = dict([(\"pommes\", 1), (\"oranges\", 3), (\"bananes\", 6)])\n",
    "d1 == d2 # True\n",
    "d1[\"oranges\"] == 3 # True"
   ]
  },
  {
   "cell_type": "markdown",
   "id": "bd35adaf",
   "metadata": {
    "slideshow": {
     "slide_type": "slide"
    }
   },
   "source": [
    "# Notes sur l'usage\n",
    "### Liste\n",
    "La plus versatile mais aussi la moins performante des structures. Utiliser pour créer de petites collections de données à utiliser rapidement, accumuler dynamiquement des données dans une boucle, ou quand une collection ordonnée à taille variables est nécessaire."
   ]
  },
  {
   "cell_type": "markdown",
   "id": "38ddb6f8",
   "metadata": {
    "slideshow": {
     "slide_type": "subslide"
    }
   },
   "source": [
    "### Tuple\n",
    "La taille non-variable d'un tuple permet certaines optimisations à l'interpréteur, rendant le tuple plus performant que la liste lorsqu'une taille variable n'est pas désirable. Le tuple est utilisé très souvent en notation mathématique, rendant son usage très intuitif pour les mathématiciens."
   ]
  },
  {
   "cell_type": "markdown",
   "id": "b4220ed9",
   "metadata": {
    "slideshow": {
     "slide_type": "subslide"
    }
   },
   "source": [
    "### Ensemble\n",
    "Les ensembles sont extrèmement performants sur l'accès et la recherche de données, ce qui les rend désirables quand l'ordre des données à traiter n'importe pas. Les ensembles éliminent aussi automatiquement les doublons. Convertir une liste en ensemble est une façon très efficace d'éliminer les doublons dans celle-ci."
   ]
  },
  {
   "cell_type": "markdown",
   "id": "472f1d72",
   "metadata": {
    "slideshow": {
     "slide_type": "subslide"
    }
   },
   "source": [
    "### Dictionnaire\n"
   ]
  }
 ],
 "metadata": {
  "celltoolbar": "Slideshow",
  "kernelspec": {
   "display_name": "SageMath 9.3",
   "language": "sage",
   "name": "sagemath"
  },
  "language_info": {
   "codemirror_mode": {
    "name": "ipython",
    "version": 3
   },
   "file_extension": ".py",
   "mimetype": "text/x-python",
   "name": "python",
   "nbconvert_exporter": "python",
   "pygments_lexer": "ipython3",
   "version": "3.9.6"
  }
 },
 "nbformat": 4,
 "nbformat_minor": 5
}
